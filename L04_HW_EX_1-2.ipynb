{
 "cells": [
  {
   "cell_type": "markdown",
   "id": "393662da-2fe0-4449-bc0a-574c38704136",
   "metadata": {
    "jupyter": {
     "source_hidden": true
    },
    "tags": []
   },
   "source": [
    "(*unhide hidden cell for tips*)"
   ]
  },
  {
   "cell_type": "markdown",
   "id": "e2be19ed-8f7f-4040-9dc6-c5d970d1cec5",
   "metadata": {
    "tags": []
   },
   "source": [
    "### Exercise 1\n",
    "Write a Python program to get the Fibonacci series between 0 to i. i has to be >= 1 and is input by user. The Fibonnaci seqence is a sequence of numbers where the next number in the sequence is the sum of the previous two numbers in the sequence. The sequence looks like this: 1, 1, 2, 3, 5, 8, 13, …\n",
    "\n",
    "Example:\n",
    "* Input: 10\n",
    "* Output: [1, 1, 2, 3, 5, 8, 13, 21, 34, 55]"
   ]
  },
  {
   "cell_type": "code",
   "execution_count": null,
   "id": "7918b7ca-471d-4fa3-bc4e-168e37055ce4",
   "metadata": {
    "jupyter": {
     "source_hidden": true
    },
    "tags": []
   },
   "outputs": [],
   "source": [
    "# Input: 3\n",
    "# Output: [1,1,2]\n",
    "\n",
    "# loop\n",
    "# l = [1... l[i-2], l[i-1], l[i], ...]\n",
    "# l[i] = l[i-2] + l[i-1]\n",
    "\n",
    "# what about when i = 1, l[1]? l[0]?\n",
    "\n",
    "# return l"
   ]
  },
  {
   "cell_type": "code",
   "execution_count": null,
   "id": "941d4ae7-0870-4ce3-9bcc-88be353ef427",
   "metadata": {
    "jupyter": {
     "source_hidden": true
    },
    "tags": []
   },
   "outputs": [],
   "source": [
    "10\n",
    "\n",
    "1st -> 1 \n",
    "2nd -> 1\n",
    "3rd -> 1 + 1\n",
    "4th -> 2nd + 3rd\n",
    "5th -> 3rd + 4th\n",
    "..\n",
    "i-th ->?\n",
    "\n",
    "for i in range(10):\n",
    "    print(i)\n",
    "\n",
    "l = []\n",
    "for i in range (10):\n",
    "    l.append\n",
    "    \n",
    "n = 10\n",
    "l = [1,1,2]\n",
    "i = 3\n",
    "l.append(next_num)\n",
    "next_num = ? (l[3] = ?)"
   ]
  },
  {
   "cell_type": "code",
   "execution_count": 78,
   "id": "cce3ca9d-1980-41c3-84af-e26867b7db21",
   "metadata": {},
   "outputs": [],
   "source": [
    "def fibonacci_series(n):\n",
    "\n",
    "    l=[1,1]\n",
    "    \n",
    "    for i in range(n):\n",
    "        if i <n-2:\n",
    "            l.append(l[-2]+l[-1])\n",
    "    print(l)"
   ]
  },
  {
   "cell_type": "code",
   "execution_count": 79,
   "id": "d51f986d-b5e1-4677-a4cc-d237c2b28544",
   "metadata": {},
   "outputs": [
    {
     "name": "stdout",
     "output_type": "stream",
     "text": [
      "[1, 1, 2, 3, 5, 8, 13, 21, 34, 55, 89, 144, 233, 377, 610]\n"
     ]
    }
   ],
   "source": [
    "fibonacci_series(15)"
   ]
  },
  {
   "cell_type": "code",
   "execution_count": 80,
   "id": "1f2a6202-9235-4f2c-baf2-94a16057c80c",
   "metadata": {},
   "outputs": [
    {
     "name": "stdout",
     "output_type": "stream",
     "text": [
      "[1, 1, 2, 3, 5, 8, 13, 21, 34, 55]\n"
     ]
    }
   ],
   "source": [
    "fibonacci_series(10)"
   ]
  },
  {
   "cell_type": "markdown",
   "id": "df985ac0-fb8e-4caa-8e8c-ebfef1646b1a",
   "metadata": {},
   "source": [
    "### Exercise 2\n",
    "Write a program which can compute the factorial of a given number. \n",
    "And then write a program to return the series of factorials from 1 to n, given an input of integer n. The results should be printed in a comma-separated sequence on a single line. \n",
    "\n",
    "Example:\n",
    "* Input: 8\n",
    "* Output: [1, 1, 2, 6, 24, 120, 720, 5040, 40320]"
   ]
  },
  {
   "cell_type": "code",
   "execution_count": null,
   "id": "99ad6ebd-99bf-49b9-b43f-14939653e2a8",
   "metadata": {
    "jupyter": {
     "source_hidden": true
    },
    "tags": []
   },
   "outputs": [],
   "source": [
    "# factorial of 8 = 8*7*6*5*4*3*2*1\n",
    "# first part: get factorial of a number\n",
    "# second part: get factorial of each number in a list\n",
    "\n",
    "# first part:\n",
    "# i -> from 1 to i, multiply them together\n",
    "# what about if i == 0? factorial of 0 is 1\n",
    "\n",
    "# second part:\n",
    "# loop from 0 to input"
   ]
  },
  {
   "cell_type": "code",
   "execution_count": null,
   "id": "48f3f891-4c69-4cb9-8f00-d8b051d5c5ae",
   "metadata": {
    "jupyter": {
     "source_hidden": true
    },
    "tags": []
   },
   "outputs": [],
   "source": [
    "# 0: [1]\n",
    "# 1: [1,1]\n",
    "# 2: [1,1,1*2]\n",
    "# 3: [1,1,1*2,1*2*3]\n",
    "# 4: [1,1,1*2,1*2*3, 1*2*3*4]"
   ]
  },
  {
   "cell_type": "code",
   "execution_count": 74,
   "id": "3131f64d-4c53-4621-8c5b-f2460298e542",
   "metadata": {},
   "outputs": [],
   "source": [
    "def factroial_series(n):\n",
    "    l=[1,1,2]\n",
    "\n",
    "    for i in range(n):\n",
    "        if i <n-2:\n",
    "            l.append(l[-1]*(i+3))\n",
    "    print(l)"
   ]
  },
  {
   "cell_type": "code",
   "execution_count": 75,
   "id": "58f6e40b-5b89-4038-a2cb-82b60858d106",
   "metadata": {},
   "outputs": [
    {
     "name": "stdout",
     "output_type": "stream",
     "text": [
      "[1, 1, 2, 6, 24, 120, 720, 5040, 40320]\n"
     ]
    }
   ],
   "source": [
    "factroial_series(8)"
   ]
  },
  {
   "cell_type": "code",
   "execution_count": 76,
   "id": "d08a5d17-2ff4-49a1-95d5-e735d65206b8",
   "metadata": {},
   "outputs": [
    {
     "name": "stdout",
     "output_type": "stream",
     "text": [
      "[1, 1, 2, 6, 24, 120, 720, 5040, 40320, 362880, 3628800, 39916800, 479001600]\n"
     ]
    }
   ],
   "source": [
    "factroial_series(12)"
   ]
  },
  {
   "cell_type": "code",
   "execution_count": null,
   "id": "81bca365-2809-4784-be2f-eaee4c32552c",
   "metadata": {},
   "outputs": [],
   "source": []
  }
 ],
 "metadata": {
  "kernelspec": {
   "display_name": "Python 3 (ipykernel)",
   "language": "python",
   "name": "python3"
  },
  "language_info": {
   "codemirror_mode": {
    "name": "ipython",
    "version": 3
   },
   "file_extension": ".py",
   "mimetype": "text/x-python",
   "name": "python",
   "nbconvert_exporter": "python",
   "pygments_lexer": "ipython3",
   "version": "3.10.9"
  }
 },
 "nbformat": 4,
 "nbformat_minor": 5
}
