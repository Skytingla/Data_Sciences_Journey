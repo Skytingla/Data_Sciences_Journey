{
 "cells": [
  {
   "cell_type": "markdown",
   "id": "0a007057-3fc0-4f2a-932d-f81aa1358b60",
   "metadata": {
    "id": "rAIt-Nn-UcWv",
    "tags": []
   },
   "source": [
    "### Exercise 1\n",
    "Write a function to extract all even number elemets to a new list.\n",
    "If the input list is [1,6,8,4,7,9,10,15,16,18], the output list should be [6,8,4,10,16,18]"
   ]
  },
  {
   "cell_type": "code",
   "execution_count": 3,
   "id": "e90f314a-f80e-446b-a248-92273ea8ee0d",
   "metadata": {
    "id": "fglhShAIspMc"
   },
   "outputs": [],
   "source": [
    "def extract_even(input_list):\n",
    "    print([i for i in input_list if i% 2 == 0])"
   ]
  },
  {
   "cell_type": "code",
   "execution_count": 18,
   "id": "9dc82877-9f71-4662-87e6-397ef0280f02",
   "metadata": {},
   "outputs": [
    {
     "name": "stdout",
     "output_type": "stream",
     "text": [
      "[6, 8, 4, 10, 16, 18]\n"
     ]
    }
   ],
   "source": [
    "extract_even([1,6,8,4,7,9,10,15,16,18])"
   ]
  },
  {
   "cell_type": "markdown",
   "id": "4853b303-1d97-4281-8bee-482c9ce994f3",
   "metadata": {
    "id": "iBHEWumZUcW7",
    "tags": []
   },
   "source": [
    "### Exercise 2\n",
    "Write a function to check if a user input string is palindrome. (A palindrome is a string that reads the same forwards and backwards.) Example: Anna, Level, Madam, Mom are palindrom\n"
   ]
  },
  {
   "cell_type": "code",
   "execution_count": 16,
   "id": "23a59b8c-1d39-4d48-95fe-3a2f5460bb09",
   "metadata": {},
   "outputs": [],
   "source": [
    "def check_palindrome(check_word):\n",
    "    clean_word = check_word.upper()\n",
    "    rev_word = clean_word[::-1]\n",
    "    if rev_word == clean_word:\n",
    "        return True\n",
    "    else:\n",
    "        return False"
   ]
  },
  {
   "cell_type": "code",
   "execution_count": 17,
   "id": "e1b351ea-e0bf-4ed4-a5fa-bb028b34cb52",
   "metadata": {},
   "outputs": [
    {
     "data": {
      "text/plain": [
       "True"
      ]
     },
     "execution_count": 17,
     "metadata": {},
     "output_type": "execute_result"
    }
   ],
   "source": [
    "check_palindrome(\"mAdam\")"
   ]
  },
  {
   "cell_type": "markdown",
   "id": "8594c5f8-cda8-4650-ba36-48559e53f21e",
   "metadata": {
    "id": "zKo18hTXUcXP"
   },
   "source": [
    "### Exercise 3\n",
    "Write a function that takes a list and returns a new list that contains all the elements of the first list with no duplicates."
   ]
  },
  {
   "cell_type": "code",
   "execution_count": 26,
   "id": "7f90e043-65d5-434a-8856-8470a035e3a3",
   "metadata": {},
   "outputs": [],
   "source": [
    "def remove_duplicates(list1):\n",
    "    \n",
    "    list2 = []\n",
    "    for i in list1:\n",
    "        if i not in list2:\n",
    "            list2.append(i)\n",
    "    print(list2)"
   ]
  },
  {
   "cell_type": "code",
   "execution_count": 27,
   "id": "20ffc6ba-c051-4470-a03c-1d1558be2d19",
   "metadata": {},
   "outputs": [
    {
     "name": "stdout",
     "output_type": "stream",
     "text": [
      "['Toyota', 'GM', 'Honda', 'Nissan', 'Suzuki']\n"
     ]
    }
   ],
   "source": [
    "remove_duplicates(['Toyota','GM','Honda','Nissan',\\\n",
    "                   'Suzuki','Nissan','GM'])"
   ]
  },
  {
   "cell_type": "markdown",
   "id": "e7448e60-658f-407b-9dab-0c43c2d1268f",
   "metadata": {
    "id": "V-inJ9RLUcXl",
    "tags": []
   },
   "source": [
    "### Exercise 4\n",
    "Write a function that takes two lists and returns True if they have at least one common member."
   ]
  },
  {
   "cell_type": "code",
   "execution_count": 70,
   "id": "de426430-c863-4e1e-b7d2-28ee9f0e5955",
   "metadata": {},
   "outputs": [],
   "source": [
    "def check_duplicates(dl1,dl2):\n",
    "    \n",
    "        for j in dl2:\n",
    "            if j in dl1:\n",
    "                return True            \n"
   ]
  },
  {
   "cell_type": "code",
   "execution_count": 71,
   "id": "44dd7828-e28d-4702-bfa3-45fabc6e7600",
   "metadata": {},
   "outputs": [],
   "source": [
    "check_duplicates([1,2,3,4],[5,6,7,8])"
   ]
  },
  {
   "cell_type": "code",
   "execution_count": 72,
   "id": "9a760a04-5cd9-45ae-a695-c8809b5d29e8",
   "metadata": {},
   "outputs": [
    {
     "data": {
      "text/plain": [
       "True"
      ]
     },
     "execution_count": 72,
     "metadata": {},
     "output_type": "execute_result"
    }
   ],
   "source": [
    "check_duplicates([1,2,3,4,4],[5,6,3,8,9])"
   ]
  },
  {
   "cell_type": "markdown",
   "id": "d751f0e9-d658-4811-8b45-ebdd0b512982",
   "metadata": {
    "id": "7_Exl_1VUcY5"
   },
   "source": [
    "# HW1\n"
   ]
  },
  {
   "cell_type": "markdown",
   "id": "233948ba-f6ab-405d-a635-7757ac955fd2",
   "metadata": {
    "id": "eDzoqI7mUcY6"
   },
   "source": [
    "write a function which input list with following propeteries\n",
    "- all elements are positive integer \n",
    "- all elements exist twice except one\n",
    "e.g [1,4,6,7,5,4,6,1,7] -> 5\n",
    "and output the single occured element "
   ]
  },
  {
   "cell_type": "code",
   "execution_count": 150,
   "id": "b13c3494-6d80-4580-a001-c3305378c3ac",
   "metadata": {},
   "outputs": [],
   "source": [
    "#first attemp\n",
    "\n",
    "def find_single(l1):\n",
    "\n",
    "    l2 = l1\n",
    "    l2.sort()\n",
    "    n = len(l2)\n",
    "    index = int(n/2-0.5)\n",
    "    print(l2[index])"
   ]
  },
  {
   "cell_type": "code",
   "execution_count": 151,
   "id": "25119a09-5806-486f-96ef-60e09764ac96",
   "metadata": {},
   "outputs": [
    {
     "name": "stdout",
     "output_type": "stream",
     "text": [
      "3\n"
     ]
    }
   ],
   "source": [
    "find_single([0,6,2,3,6,9,9,2,0])"
   ]
  },
  {
   "cell_type": "code",
   "execution_count": 142,
   "id": "3ad5272a-90af-468c-8158-0f05effc3745",
   "metadata": {},
   "outputs": [
    {
     "name": "stdout",
     "output_type": "stream",
     "text": [
      "5\n"
     ]
    }
   ],
   "source": [
    "find_single([1,4,6,7,5,4,6,1,7])"
   ]
  },
  {
   "cell_type": "code",
   "execution_count": 157,
   "id": "31f333ac-01f1-4b76-8061-71c89810891e",
   "metadata": {},
   "outputs": [],
   "source": [
    "#second attemp\n",
    "\n",
    "def find_single2(l1):\n",
    "    l2 = [i for i in l1]\n",
    "    l2.sort()\n",
    "    l3 = [i for i in l1]\n",
    "    l3.sort(reverse=True)\n",
    "    n = len(l2)+1\n",
    "    for i in l2:\n",
    "        n-=1\n",
    "        if i == l3[-n]:\n",
    "            print (i)"
   ]
  },
  {
   "cell_type": "code",
   "execution_count": 158,
   "id": "df683c66-e1e2-475c-b0ca-ad3cd20aedba",
   "metadata": {},
   "outputs": [
    {
     "name": "stdout",
     "output_type": "stream",
     "text": [
      "5\n"
     ]
    }
   ],
   "source": [
    "find_single2([1,4,6,7,5,4,6,1,7])"
   ]
  },
  {
   "cell_type": "code",
   "execution_count": null,
   "id": "cbe0406f-6896-457e-bdec-020e4202305c",
   "metadata": {},
   "outputs": [],
   "source": []
  }
 ],
 "metadata": {
  "kernelspec": {
   "display_name": "Python 3 (ipykernel)",
   "language": "python",
   "name": "python3"
  },
  "language_info": {
   "codemirror_mode": {
    "name": "ipython",
    "version": 3
   },
   "file_extension": ".py",
   "mimetype": "text/x-python",
   "name": "python",
   "nbconvert_exporter": "python",
   "pygments_lexer": "ipython3",
   "version": "3.10.9"
  }
 },
 "nbformat": 4,
 "nbformat_minor": 5
}
