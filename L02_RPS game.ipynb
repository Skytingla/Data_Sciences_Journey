{
 "cells": [
  {
   "cell_type": "code",
   "execution_count": null,
   "id": "a8f31be6-9559-4261-b5ee-b808b32409b4",
   "metadata": {},
   "outputs": [],
   "source": [
    "def a_round():\n",
    "    \n",
    "    from random import choice as r\n",
    "\n",
    "    list = [\"P\",\"S\",\"R\"]\n",
    "    \n",
    "    P_choice = str.upper(input(\"'P','S' or 'R' for Paper, Scissors or Rock\"))\n",
    "    C_choice = r(list)\n",
    "\n",
    "    if P_choice not in list:\n",
    "        print(\"Huh? Please input again!\\n\")\n",
    "        return 0,0\n",
    "    \n",
    "    elif P_choice == C_choice or P_choice not in list:\n",
    "        print(f'{P_choice} vs {C_choice}:draw\\n')\n",
    "        return 0,0\n",
    "    \n",
    "    elif P_choice == 'P' and C_choice == 'R' or P_choice == 'R' and C_choice == 'S' or P_choice == 'S' and C_choice == 'P':\n",
    "        print(f'{P_choice} vs {C_choice}: You win this round\\n')\n",
    "        return 1,0\n",
    "    \n",
    "    else: print(f'{P_choice} vs {C_choice}: You lose this round\\n')\n",
    "    return 0,1\n",
    "    \n",
    "count_p = 0\n",
    "count_c = 0\n",
    "\n",
    "while True:\n",
    "    \n",
    "    if count_p <=1 and count_c <=1:\n",
    "        mark = a_round()\n",
    "        \n",
    "        count_p += mark[0]\n",
    "        count_c += mark[1]\n",
    "        # print(count_p,count_c)\n",
    "  \n",
    "    else:\n",
    "        print(f'Result: {count_p} vs {count_c}')\n",
    "    \n",
    "        if count_p > count_c:\n",
    "            print(\"You win the game!\")\n",
    "            break\n",
    "        if count_p < count_c:\n",
    "            print(\"Sorry, you lose. Please play again\")\n",
    "            break\n"
   ]
  }
 ],
 "metadata": {
  "kernelspec": {
   "display_name": "Python 3 (ipykernel)",
   "language": "python",
   "name": "python3"
  },
  "language_info": {
   "codemirror_mode": {
    "name": "ipython",
    "version": 3
   },
   "file_extension": ".py",
   "mimetype": "text/x-python",
   "name": "python",
   "nbconvert_exporter": "python",
   "pygments_lexer": "ipython3",
   "version": "3.10.9"
  }
 },
 "nbformat": 4,
 "nbformat_minor": 5
}
