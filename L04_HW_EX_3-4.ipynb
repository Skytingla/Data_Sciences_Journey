{
 "cells": [
  {
   "cell_type": "markdown",
   "id": "71b994b3-b70d-439a-84bc-8f45ea65777b",
   "metadata": {},
   "source": [
    "### Exercise 3\n",
    "Write a function to find the longest common prefix string amongst an array of strings.\n",
    "\n",
    "If there is no common prefix, return an empty string \"\".\n",
    "\n",
    "Example 1:\n",
    "\n",
    "* Input: [\"flower\",\"flow\",\"flight\"]\n",
    "* Output: \"fl\"\n",
    "\n",
    "Example 2:\n",
    "\n",
    "* Input: [\"dog\",\"racecar\",\"car\"]\n",
    "* Output: \"\""
   ]
  },
  {
   "cell_type": "code",
   "execution_count": null,
   "id": "f97329f8-bc19-45ae-a02f-4016347702c5",
   "metadata": {
    "tags": []
   },
   "outputs": [],
   "source": [
    "# loop to check each item in list\n",
    "# question: start with 1 character, and then add more character if we find match\n",
    "# OR: start with a word, and then minus character if we find mismatch?\n",
    "\n",
    "# maybe one more loop check each string characters?"
   ]
  },
  {
   "cell_type": "code",
   "execution_count": 323,
   "id": "570613a3-ea3e-4cca-ab97-d6da4ca08c21",
   "metadata": {
    "tags": []
   },
   "outputs": [
    {
     "ename": "TypeError",
     "evalue": "'str' object cannot be interpreted as an integer",
     "output_type": "error",
     "traceback": [
      "\u001b[1;31m---------------------------------------------------------------------------\u001b[0m",
      "\u001b[1;31mTypeError\u001b[0m                                 Traceback (most recent call last)",
      "Cell \u001b[1;32mIn[323], line 22\u001b[0m\n\u001b[0;32m     19\u001b[0m     x\u001b[38;5;241m=\u001b[39m\u001b[38;5;241m0\u001b[39m\n\u001b[0;32m     20\u001b[0m     y\u001b[38;5;241m=\u001b[39m\u001b[38;5;241m0\u001b[39m\n\u001b[1;32m---> 22\u001b[0m \u001b[38;5;28;01mfor\u001b[39;00m x \u001b[38;5;129;01min\u001b[39;00m \u001b[38;5;28;43mrange\u001b[39;49m\u001b[43m(\u001b[49m\u001b[43mw\u001b[49m\u001b[43m)\u001b[49m:\n\u001b[0;32m     23\u001b[0m     \u001b[38;5;28;01mfor\u001b[39;00m y \u001b[38;5;129;01min\u001b[39;00m l2:\n\u001b[0;32m     24\u001b[0m         l3\u001b[38;5;241m.\u001b[39mappend(y[x])\n",
      "\u001b[1;31mTypeError\u001b[0m: 'str' object cannot be interpreted as an integer"
     ]
    }
   ],
   "source": [
    "def find_prefix(l):\n",
    "       \n",
    "    def num(c):\n",
    "        return len(c)\n",
    "\n",
    "    l2 = []\n",
    "    l3 = []\n",
    "    l4 = []\n",
    "\n",
    "    l.sort(key=num)\n",
    "    n = (len(l[0]))\n",
    "    w = (len(l))\n",
    "    print(n)\n",
    "    print(w)\n",
    "\n",
    "    for i in l:\n",
    "        l2.append(i[0:n])\n",
    "    print(l2)\n",
    "    x=0\n",
    "    y=0\n",
    "    \n",
    "for x in range(w):\n",
    "    for y in l2:\n",
    "        l3.append(y[x])\n",
    "        if list_len == l3.count(y[x]):\n",
    "            l4.append(y[x])\n",
    "\n",
    "     "
   ]
  },
  {
   "cell_type": "code",
   "execution_count": 324,
   "id": "63576dbb-899c-4031-8d84-8a8451e219fe",
   "metadata": {},
   "outputs": [
    {
     "name": "stdout",
     "output_type": "stream",
     "text": [
      "4\n",
      "3\n",
      "['flow', 'flow', 'flig']\n"
     ]
    }
   ],
   "source": [
    "find_prefix([\"flow\",\"flow\",\"flig\"])           "
   ]
  },
  {
   "cell_type": "code",
   "execution_count": null,
   "id": "81bca365-2809-4784-be2f-eaee4c32552c",
   "metadata": {},
   "outputs": [],
   "source": []
  },
  {
   "cell_type": "markdown",
   "id": "d741ce1b-7c14-432b-9d22-06e3c842d621",
   "metadata": {
    "tags": []
   },
   "source": [
    "### Exercise 4\n",
    "Given a list of numbers, return whether any two sums to k. For example, given [10, 15, 3, 7] and k of 17, return true since 10 + 7 is 17.\n",
    "\n",
    "Bonus: Can you do this in one pass?"
   ]
  },
  {
   "cell_type": "code",
   "execution_count": null,
   "id": "9fdc241e-0603-4734-8b00-bbd3ae891cd4",
   "metadata": {},
   "outputs": [],
   "source": [
    "def ex4(input_list,k):\n",
    "    \n",
    "    ....\n",
    "    if xxx:\n",
    "        return True\n",
    "    return False"
   ]
  }
 ],
 "metadata": {
  "kernelspec": {
   "display_name": "Python 3 (ipykernel)",
   "language": "python",
   "name": "python3"
  },
  "language_info": {
   "codemirror_mode": {
    "name": "ipython",
    "version": 3
   },
   "file_extension": ".py",
   "mimetype": "text/x-python",
   "name": "python",
   "nbconvert_exporter": "python",
   "pygments_lexer": "ipython3",
   "version": "3.10.9"
  }
 },
 "nbformat": 4,
 "nbformat_minor": 5
}
