{
 "cells": [
  {
   "cell_type": "code",
   "execution_count": 1,
   "id": "ec67a38d-3ab2-4551-929a-881bab1ea813",
   "metadata": {},
   "outputs": [],
   "source": [
    "import requests \n",
    "from bs4 import BeautifulSoup"
   ]
  },
  {
   "cell_type": "code",
   "execution_count": 32,
   "id": "9c5c9dd9-5af0-4377-8c23-e60363741468",
   "metadata": {},
   "outputs": [],
   "source": [
    "r = requests.get(\"https://www.price.com.hk/search.php?g=A&q=dyson&page1\")\n",
    "soup = BeautifulSoup(r.text)"
   ]
  },
  {
   "cell_type": "code",
   "execution_count": null,
   "id": "9d152173-7a2a-48e7-962f-0215b026cb16",
   "metadata": {},
   "outputs": [],
   "source": [
    "# get total number of pages\n",
    "# loop every page, get each page as a soup\n",
    "# in one page, loop every product one by one\n",
    "# in one product, get name and price\n",
    "# how to save? list or dict?\n",
    "# combine everything into a function"
   ]
  },
  {
   "cell_type": "code",
   "execution_count": null,
   "id": "54e0d7a9-d259-4062-b5f5-5e92ef890dda",
   "metadata": {},
   "outputs": [],
   "source": []
  },
  {
   "cell_type": "code",
   "execution_count": 66,
   "id": "bc56e5aa-c156-49e3-ba5a-1fe45070355d",
   "metadata": {},
   "outputs": [
    {
     "data": {
      "text/plain": [
       "'共 29 頁'"
      ]
     },
     "execution_count": 66,
     "metadata": {},
     "output_type": "execute_result"
    }
   ],
   "source": [
    "# get total number of pages\n",
    "page = soup.find('div',{'class':'pagination-total'}).find('span')\n",
    "page.text"
   ]
  },
  {
   "cell_type": "code",
   "execution_count": null,
   "id": "e5c78503-7542-4f90-9be8-573659830f76",
   "metadata": {},
   "outputs": [],
   "source": [
    "# loop every page, get each page as a soup\n",
    "i=1\n",
    "for i in range(3):\n",
    "    r=requests.get(\"https://www.price.com.hk/search.php?g=A&q=dyson&page{i}\")\n",
    "    soup = BeautifulSoup(r.text)\n",
    "    print(soup)\n",
    "    print('Alcinacheck')                   \n",
    "    "
   ]
  },
  {
   "cell_type": "code",
   "execution_count": null,
   "id": "020e9531-921f-4639-bb93-c75b9c86ef10",
   "metadata": {},
   "outputs": [],
   "source": []
  },
  {
   "cell_type": "code",
   "execution_count": null,
   "id": "fcabd077-cb14-48b2-8cfd-3763f867a2d5",
   "metadata": {},
   "outputs": [],
   "source": []
  },
  {
   "cell_type": "code",
   "execution_count": 106,
   "id": "b445b682-1acc-44c9-9592-f5123be461fc",
   "metadata": {},
   "outputs": [
    {
     "data": {
      "text/plain": [
       "'Dyson Supersonic 風筒 HD15                    '"
      ]
     },
     "execution_count": 106,
     "metadata": {},
     "output_type": "execute_result"
    }
   ],
   "source": [
    "# in one product, get name and price\n",
    "product = soup.find('div',{'class':'item-inner'})\n",
    "product_name = product.find('div',{'class': 'line line-01'}).find('a')\n",
    "product_name.text"
   ]
  },
  {
   "cell_type": "code",
   "execution_count": 107,
   "id": "61c5e01e-f818-49e6-a5e1-1d4dfa6c1610",
   "metadata": {},
   "outputs": [
    {
     "data": {
      "text/plain": [
       "'\\n\\n\\nHK$3,070-3,590\\n\\n\\n\\n'"
      ]
     },
     "execution_count": 107,
     "metadata": {},
     "output_type": "execute_result"
    }
   ],
   "source": [
    "price = soup.find('div',{'class':'product-list-price'})\n",
    "price_range = price.find('div',{'class':'line line-01 price-range'}).find('a')\n",
    "price_range.text"
   ]
  },
  {
   "cell_type": "code",
   "execution_count": null,
   "id": "ff7e579e-c01c-457c-a3db-0825752b7df5",
   "metadata": {},
   "outputs": [],
   "source": []
  },
  {
   "cell_type": "code",
   "execution_count": null,
   "id": "2ef557c8-6592-48b4-b878-5cd9dc79fd4f",
   "metadata": {},
   "outputs": [],
   "source": []
  },
  {
   "cell_type": "code",
   "execution_count": null,
   "id": "16d99639-539a-468f-9eff-c88532383904",
   "metadata": {},
   "outputs": [],
   "source": []
  },
  {
   "cell_type": "code",
   "execution_count": null,
   "id": "50741b98-ec78-40f7-a195-428a5a57e638",
   "metadata": {},
   "outputs": [],
   "source": []
  },
  {
   "cell_type": "code",
   "execution_count": null,
   "id": "85910882-6bc0-4ee6-bd16-d07bd98b07c8",
   "metadata": {},
   "outputs": [],
   "source": []
  },
  {
   "cell_type": "code",
   "execution_count": null,
   "id": "e93fd460-7c32-41dc-a482-df646c2f05aa",
   "metadata": {},
   "outputs": [],
   "source": []
  },
  {
   "cell_type": "code",
   "execution_count": null,
   "id": "ea4c704c-f710-45b1-863f-37cc57afec39",
   "metadata": {},
   "outputs": [],
   "source": []
  },
  {
   "cell_type": "code",
   "execution_count": null,
   "id": "941ec0bc-5051-41ad-8c78-a0cbdec33a72",
   "metadata": {},
   "outputs": [],
   "source": []
  },
  {
   "cell_type": "code",
   "execution_count": null,
   "id": "ed66a60d-272b-433f-82fe-935df0331d6c",
   "metadata": {},
   "outputs": [],
   "source": []
  }
 ],
 "metadata": {
  "kernelspec": {
   "display_name": "Python 3 (ipykernel)",
   "language": "python",
   "name": "python3"
  },
  "language_info": {
   "codemirror_mode": {
    "name": "ipython",
    "version": 3
   },
   "file_extension": ".py",
   "mimetype": "text/x-python",
   "name": "python",
   "nbconvert_exporter": "python",
   "pygments_lexer": "ipython3",
   "version": "3.10.9"
  }
 },
 "nbformat": 4,
 "nbformat_minor": 5
}
